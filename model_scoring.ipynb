{
  "cells": [
    {
      "cell_type": "code",
      "execution_count": null,
      "metadata": {
        "id": "R_v-EKHzFUPN"
      },
      "outputs": [],
      "source": [
        "import pandas as pd"
      ]
    },
    {
      "cell_type": "code",
      "execution_count": null,
      "metadata": {
        "id": "r00ohmOe3ZcX"
      },
      "outputs": [],
      "source": [
        "data_v7 = pd.read_csv('/content/check_arithmetic-solver-v7.csv')"
      ]
    },
    {
      "cell_type": "code",
      "execution_count": null,
      "metadata": {
        "id": "HvZvqqlce-tK"
      },
      "outputs": [],
      "source": [
        "def are_values_close(value1, value2, rel_threshold=0.05, abs_threshold_factor=0.05):\n",
        "    try:\n",
        "        val1 = round(float(value1), 3)\n",
        "        val2 = round(float(value2), 3)\n",
        "        abs_diff = abs(val2 - val1)\n",
        "\n",
        "        dynamic_abs_threshold = max(abs_threshold_factor * max(val1, val2), abs_threshold_factor)\n",
        "\n",
        "        if abs_diff <= dynamic_abs_threshold:\n",
        "            return True\n",
        "\n",
        "        return val2 <= val1 * (1 + rel_threshold) and val2 >= val1 * (1 - rel_threshold)\n",
        "    except ValueError:\n",
        "        return False"
      ]
    },
    {
      "cell_type": "code",
      "execution_count": null,
      "metadata": {
        "id": "aWaSBlN23ffY"
      },
      "outputs": [],
      "source": [
        "data_v7['label_13b'] = data_v7.apply(lambda row: are_values_close(row['program_ans'], row['13b_answer']), axis=1)"
      ]
    },
    {
      "cell_type": "code",
      "execution_count": null,
      "metadata": {
        "colab": {
          "base_uri": "https://localhost:8080/"
        },
        "id": "lG0cbpIJ3ncO",
        "outputId": "5bc70e67-9003-49fd-a08c-fe3dc8bceb4d"
      },
      "outputs": [
        {
          "name": "stdout",
          "output_type": "stream",
          "text": [
            "Count of True values: 82\n"
          ]
        }
      ],
      "source": [
        "true_count_13b = (data['label_13b'] == True).sum()\n",
        "\n",
        "print(\"Count of True values:\", true_count_13b)"
      ]
    }
  ],
  "metadata": {
    "colab": {
      "provenance": []
    },
    "kernelspec": {
      "display_name": "Python 3",
      "name": "python3"
    },
    "language_info": {
      "name": "python"
    }
  },
  "nbformat": 4,
  "nbformat_minor": 0
}
